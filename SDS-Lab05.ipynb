{
 "cells": [
  {
   "cell_type": "markdown",
   "id": "20e8f31c",
   "metadata": {},
   "source": [
    "## Laboratorio 5"
   ]
  },
  {
   "cell_type": "markdown",
   "id": "5b1de11c",
   "metadata": {},
   "source": [
    "### Parte 1 - Análisis de paquetes"
   ]
  },
  {
   "cell_type": "markdown",
   "id": "3800810e",
   "metadata": {},
   "source": [
    "Maria Ines Vasquez Figueroa 18250\n",
    "\n",
    "Diana Ximena de León Figueroa 18607"
   ]
  },
  {
   "cell_type": "code",
   "execution_count": 1,
   "id": "a954577c",
   "metadata": {},
   "outputs": [],
   "source": [
    "from scapy.all import *\n",
    "import pandas as pd\n",
    "import numpy as np\n",
    "import binascii\n",
    "import seaborn as sns\n",
    "sns.set(color_codes=True)\n",
    "%matplotlib inline\n",
    "\n",
    "from scapy.layers.l2 import Ether\n",
    "from scapy.layers.inet import IP\n",
    "from scapy.layers.inet import TCP, UDP"
   ]
  },
  {
   "cell_type": "code",
   "execution_count": 2,
   "id": "6e8d8567",
   "metadata": {},
   "outputs": [],
   "source": [
    "pcap_file = rdpcap('analisis_paquetes.pcap')"
   ]
  },
  {
   "cell_type": "code",
   "execution_count": 3,
   "id": "2625c3c2",
   "metadata": {},
   "outputs": [],
   "source": [
    "num_of_packets_to_sniff = 100\n",
    "pcap_scan = sniff(count=num_of_packets_to_sniff)"
   ]
  },
  {
   "cell_type": "code",
   "execution_count": 4,
   "id": "90040022",
   "metadata": {},
   "outputs": [
    {
     "name": "stdout",
     "output_type": "stream",
     "text": [
      "88:e9:fe:6a:92:52\n",
      "80:37:73:96:9b:db\n",
      "88:e9:fe:6a:92:52\n",
      "80:37:73:96:9b:db\n",
      "88:e9:fe:6a:92:52\n",
      "80:37:73:96:9b:db\n",
      "88:e9:fe:6a:92:52\n",
      "80:37:73:96:9b:db\n",
      "88:e9:fe:6a:92:52\n",
      "80:37:73:96:9b:db\n",
      "88:e9:fe:6a:92:52\n",
      "80:37:73:96:9b:db\n",
      "88:e9:fe:6a:92:52\n",
      "80:37:73:96:9b:db\n",
      "88:e9:fe:6a:92:52\n",
      "80:37:73:96:9b:db\n",
      "88:e9:fe:6a:92:52\n",
      "80:37:73:96:9b:db\n",
      "88:e9:fe:6a:92:52\n",
      "80:37:73:96:9b:db\n",
      "88:e9:fe:6a:92:52\n",
      "80:37:73:96:9b:db\n",
      "88:e9:fe:6a:92:52\n",
      "88:e9:fe:6a:92:52\n",
      "80:37:73:96:9b:db\n",
      "80:37:73:96:9b:db\n",
      "88:e9:fe:6a:92:52\n",
      "80:37:73:96:9b:db\n",
      "88:e9:fe:6a:92:52\n",
      "80:37:73:96:9b:db\n",
      "88:e9:fe:6a:92:52\n",
      "80:37:73:96:9b:db\n",
      "88:e9:fe:6a:92:52\n",
      "80:37:73:96:9b:db\n",
      "88:e9:fe:6a:92:52\n",
      "80:37:73:96:9b:db\n",
      "88:e9:fe:6a:92:52\n",
      "80:37:73:96:9b:db\n",
      "88:e9:fe:6a:92:52\n",
      "80:37:73:96:9b:db\n",
      "88:e9:fe:6a:92:52\n",
      "80:37:73:96:9b:db\n",
      "88:e9:fe:6a:92:52\n",
      "80:37:73:96:9b:db\n",
      "88:e9:fe:6a:92:52\n",
      "80:37:73:96:9b:db\n",
      "88:e9:fe:6a:92:52\n",
      "80:37:73:96:9b:db\n",
      "88:e9:fe:6a:92:52\n",
      "80:37:73:96:9b:db\n",
      "88:e9:fe:6a:92:52\n",
      "80:37:73:96:9b:db\n",
      "88:e9:fe:6a:92:52\n",
      "80:37:73:96:9b:db\n",
      "88:e9:fe:6a:92:52\n",
      "80:37:73:96:9b:db\n",
      "88:e9:fe:6a:92:52\n",
      "80:37:73:96:9b:db\n",
      "88:e9:fe:6a:92:52\n",
      "80:37:73:96:9b:db\n",
      "88:e9:fe:6a:92:52\n",
      "80:37:73:96:9b:db\n"
     ]
    }
   ],
   "source": [
    "for packet in pcap_file:\n",
    "    print(packet.src)"
   ]
  },
  {
   "cell_type": "code",
   "execution_count": 5,
   "id": "96c8804d",
   "metadata": {},
   "outputs": [
    {
     "name": "stdout",
     "output_type": "stream",
     "text": [
      "Informacion del frame:\n",
      "Ether / IP / UDP / DNS Qry \"b'google.com.'\"  / Raw\n",
      "Informacion del paquete:\n",
      "IP / UDP / DNS Qry \"b'google.com.'\"  / Raw\n",
      "Informacion del segmento:\n",
      "UDP / DNS Qry \"b'google.com.'\"  / Raw\n",
      "Data:\n",
      "DNS Qry \"b'google.com.'\"  / Raw\n",
      "###[ Ethernet ]### \n",
      "  dst       = 80:37:73:96:9b:db\n",
      "  src       = 88:e9:fe:6a:92:52\n",
      "  type      = IPv4\n",
      "###[ IP ]### \n",
      "     version   = 4\n",
      "     ihl       = 5\n",
      "     tos       = 0x0\n",
      "     len       = 961\n",
      "     id        = 1\n",
      "     flags     = \n",
      "     frag      = 0\n",
      "     ttl       = 64\n",
      "     proto     = udp\n",
      "     chksum    = 0x52e6\n",
      "     src       = 10.1.10.53\n",
      "     dst       = 84.54.22.33\n",
      "     \\options   \\\n",
      "###[ UDP ]### \n",
      "        sport     = domain\n",
      "        dport     = domain\n",
      "        len       = 941\n",
      "        chksum    = 0xf60e\n",
      "###[ DNS ]### \n",
      "           id        = 12\n",
      "           qr        = 0\n",
      "           opcode    = QUERY\n",
      "           aa        = 0\n",
      "           tc        = 0\n",
      "           rd        = 1\n",
      "           ra        = 0\n",
      "           z         = 0\n",
      "           ad        = 0\n",
      "           cd        = 0\n",
      "           rcode     = ok\n",
      "           qdcount   = 1\n",
      "           ancount   = 0\n",
      "           nscount   = 0\n",
      "           arcount   = 0\n",
      "           \\qd        \\\n",
      "            |###[ DNS Question Record ]### \n",
      "            |  qname     = 'google.com.'\n",
      "            |  qtype     = AAAA\n",
      "            |  qclass    = IN\n",
      "           an        = None\n",
      "           ns        = None\n",
      "           ar        = None\n",
      "###[ Raw ]### \n",
      "              load      = '�PNG\\r\\n\\x1a\\n\\x00\\x00\\x00\\rIHDR\\x00\\x00\\x01b\\x00\\x00\\x00�\\x08\\x06\\x00\\x00\\x00(�TR\\x00\\x00:�IDATx��\\t|T�����;K\\x12\\x08;\\x08�\\nE��$\\x19��Ziߪ-�;N2��V�V�a�Z\\x11!��\\x01ܻik[�.ok�e�\\x01\\\\��]�-���d�\\x08�\\x08��g���<��L\\x12�$3wf��\\x02<_\\r�Y�r��y���\\x1c\\r\\x18�8c�ew\\r\\x1e����\\x13�iaK����u}Ųw�d��\\x15�\"`\\x06:\\x13�\\x0b�\\x0c\\x16�\\x12�&�9Ɛ�\\x00���\\x08\\x111ҌQHP*�@\\x04O4���7<y�\\x0e.9���a2@a��&\"�\\x13\\x11�c�kO�s@�9�i�4X�x�K�a!f��0w��3dx\\x1d\"���C(�}�0|q�*��\\x0b�a!f�4��.�sKg\\x10\\x11]=9NԂ\\x06��u���K_�e\\x06*���\\x19Px��%��\\x03�3��\\x1e\"E?\\x0f���+H�]Q�k����8�\"�\\x1d\\x114v�2\\x10���咯̸|�x.\\\\�-b�I�B���@�L��CJ]XWQ����uQ�kQ\\x13\\x7f�N�1\\x00���2\\x17�03\\x10�\\\\\\x04�@!�H�BJqG\\'+�R�U\\\\[����GXC;��Ԏ�q�!\\x04�r�s=�\\x02rԴ\\x0b���_S�%�ph�a\\x12Y\\x05\\x02����c���P�9�'\n",
      "\n",
      "###[ DNS ]### \n",
      "  id        = 12\n",
      "  qr        = 0\n",
      "  opcode    = QUERY\n",
      "  aa        = 0\n",
      "  tc        = 0\n",
      "  rd        = 1\n",
      "  ra        = 0\n",
      "  z         = 0\n",
      "  ad        = 0\n",
      "  cd        = 0\n",
      "  rcode     = ok\n",
      "  qdcount   = 1\n",
      "  ancount   = 0\n",
      "  nscount   = 0\n",
      "  arcount   = 0\n",
      "  \\qd        \\\n",
      "   |###[ DNS Question Record ]### \n",
      "   |  qname     = 'google.com.'\n",
      "   |  qtype     = AAAA\n",
      "   |  qclass    = IN\n",
      "  an        = None\n",
      "  ns        = None\n",
      "  ar        = None\n",
      "###[ Raw ]### \n",
      "     load      = '�PNG\\r\\n\\x1a\\n\\x00\\x00\\x00\\rIHDR\\x00\\x00\\x01b\\x00\\x00\\x00�\\x08\\x06\\x00\\x00\\x00(�TR\\x00\\x00:�IDATx��\\t|T�����;K\\x12\\x08;\\x08�\\nE��$\\x19��Ziߪ-�;N2��V�V�a�Z\\x11!��\\x01ܻik[�.ok�e�\\x01\\\\��]�-���d�\\x08�\\x08��g���<��L\\x12�$3wf��\\x02<_\\r�Y�r��y���\\x1c\\r\\x18�8c�ew\\r\\x1e����\\x13�iaK����u}Ųw�d��\\x15�\"`\\x06:\\x13�\\x0b�\\x0c\\x16�\\x12�&�9Ɛ�\\x00���\\x08\\x111ҌQHP*�@\\x04O4���7<y�\\x0e.9���a2@a��&\"�\\x13\\x11�c�kO�s@�9�i�4X�x�K�a!f��0w��3dx\\x1d\"���C(�}�0|q�*��\\x0b�a!f�4��.�sKg\\x10\\x11]=9NԂ\\x06��u���K_�e\\x06*���\\x19Px��%��\\x03�3��\\x1e\"E?\\x0f���+H�]Q�k����8�\"�\\x1d\\x114v�2\\x10���咯̸|�x.\\\\�-b�I�B���@�L��CJ]XWQ����uQ�kQ\\x13\\x7f�N�1\\x00���2\\x17�03\\x10�\\\\\\x04�@!�H�BJqG\\'+�R�U\\\\[����GXC;��Ԏ�q�!\\x04�r�s=�\\x02rԴ\\x0b���_S�%�ph�a\\x12Y\\x05\\x02����c���P�9�'\n",
      "\n"
     ]
    }
   ],
   "source": [
    "ethernet_frame = pcap_file[0]\n",
    "ip_packet = ethernet_frame.payload\n",
    "segment = ip_packet.payload\n",
    "data = segment.payload #recupera la informacion de la capa 4\n",
    "\n",
    "print(\"Informacion del frame:\")\n",
    "print(ethernet_frame.summary())\n",
    "\n",
    "print(\"Informacion del paquete:\")\n",
    "print(ip_packet.summary())\n",
    "\n",
    "print(\"Informacion del segmento:\")\n",
    "print(segment.summary())\n",
    "\n",
    "print(\"Data:\")\n",
    "print(data.summary())\n",
    "\n",
    "ethernet_frame.show()\n",
    "data.show()"
   ]
  },
  {
   "cell_type": "code",
   "execution_count": 6,
   "id": "0167dfa7",
   "metadata": {},
   "outputs": [
    {
     "name": "stdout",
     "output_type": "stream",
     "text": [
      "<class 'scapy.layers.l2.Ether'>\n",
      "<class 'scapy.layers.inet.IP'>\n",
      "<class 'scapy.layers.inet.UDP'>\n",
      "Ethernet <Ether from analisis_paquetes.pcap: TCP:0 UDP:62 ICMP:0 Other:0>\n",
      "IP <IP from analisis_paquetes.pcap: TCP:0 UDP:62 ICMP:0 Other:0>\n",
      "TCP <UDP from analisis_paquetes.pcap: TCP:0 UDP:62 ICMP:0 Other:0>\n",
      "UDP <UDP from analisis_paquetes.pcap: TCP:0 UDP:62 ICMP:0 Other:0>\n"
     ]
    }
   ],
   "source": [
    "print(type(ethernet_frame))\n",
    "print(type(ip_packet))\n",
    "print(type(segment))\n",
    "\n",
    "ethernet_type = type(ethernet_frame)\n",
    "ip_type = type(ip_packet)\n",
    "tcp_type = type(segment)\n",
    "\n",
    "print(\"Ethernet\", pcap_file[ethernet_type])\n",
    "print(\"IP\", pcap_file[ip_type])\n",
    "print(\"TCP\", pcap_file[tcp_type])\n",
    "\n",
    "print(\"UDP\", pcap_file[UDP])"
   ]
  },
  {
   "cell_type": "code",
   "execution_count": 7,
   "id": "90893140",
   "metadata": {},
   "outputs": [],
   "source": [
    "def create_dataframe(pcap_packets):\n",
    "    # Obtenemos los campos de IP/TCP/UDP que seran las columnas de nuestro DF\n",
    "    ip_fields = [field.name for field in IP().fields_desc]\n",
    "    tcp_fields = [field.name for field in TCP().fields_desc]\n",
    "    udp_fields = [field.name for field in UDP().fields_desc]\n",
    "\n",
    "    #Concatenamos todos los campos\n",
    "    dataframe_fields = ip_fields + ['time'] + tcp_fields + ['payload', 'payload_raw', 'payload_hex']\n",
    "\n",
    "    # Creamos un DF en blanco con los campos como columnas\n",
    "    df = pd.DataFrame(columns=dataframe_fields)\n",
    "    for packet in pcap_packets[IP]:\n",
    "        # Obtenemos los valores de los campos de cada fila\n",
    "        field_values = []\n",
    "        # A;adimos todos los valores de los campos de IP al df\n",
    "        for field in ip_fields:\n",
    "            if field == 'options':\n",
    "                # Obtenemos el numero de opciones del IP Header\n",
    "                field_values.append(len(packet[IP].fields[field]))\n",
    "            else:\n",
    "                field_values.append(packet[IP].fields[field])\n",
    "\n",
    "        field_values.append(packet.time)\n",
    "\n",
    "        layer_type = type(packet[IP].payload)\n",
    "        for field in tcp_fields:\n",
    "            try:\n",
    "                if field == 'options':\n",
    "                    field_values.append(len(packet[layer_type].fields[field]))\n",
    "                else:\n",
    "                    field_values.append(packet[layer_type].fields[field])\n",
    "            except:\n",
    "                field_values.append(None)\n",
    "\n",
    "        # Agregamos el payload\n",
    "        field_values.append(len(packet[layer_type].payload))\n",
    "        field_values.append(packet[layer_type].payload.original)\n",
    "        field_values.append(binascii.hexlify(packet[layer_type].payload.original))\n",
    "        # Agregamos la fila al df\n",
    "        df_append = pd.DataFrame([field_values], columns=dataframe_fields)\n",
    "        df = pd.concat([df, df_append], axis=0)\n",
    "\n",
    "    # Reset Index\n",
    "    df = df.reset_index()\n",
    "    # Drop old index column\n",
    "    df = df.drop(columns=\"index\")\n",
    "    \n",
    "    return df"
   ]
  },
  {
   "cell_type": "code",
   "execution_count": 8,
   "id": "06190c1f",
   "metadata": {},
   "outputs": [],
   "source": [
    "df_file = create_dataframe(pcap_file)"
   ]
  },
  {
   "cell_type": "code",
   "execution_count": 9,
   "id": "1f515e5e",
   "metadata": {},
   "outputs": [
    {
     "data": {
      "text/html": [
       "<div>\n",
       "<style scoped>\n",
       "    .dataframe tbody tr th:only-of-type {\n",
       "        vertical-align: middle;\n",
       "    }\n",
       "\n",
       "    .dataframe tbody tr th {\n",
       "        vertical-align: top;\n",
       "    }\n",
       "\n",
       "    .dataframe thead th {\n",
       "        text-align: right;\n",
       "    }\n",
       "</style>\n",
       "<table border=\"1\" class=\"dataframe\">\n",
       "  <thead>\n",
       "    <tr style=\"text-align: right;\">\n",
       "      <th></th>\n",
       "      <th>version</th>\n",
       "      <th>ihl</th>\n",
       "      <th>tos</th>\n",
       "      <th>len</th>\n",
       "      <th>id</th>\n",
       "      <th>flags</th>\n",
       "      <th>frag</th>\n",
       "      <th>ttl</th>\n",
       "      <th>proto</th>\n",
       "      <th>chksum</th>\n",
       "      <th>...</th>\n",
       "      <th>dataofs</th>\n",
       "      <th>reserved</th>\n",
       "      <th>flags</th>\n",
       "      <th>window</th>\n",
       "      <th>chksum</th>\n",
       "      <th>urgptr</th>\n",
       "      <th>options</th>\n",
       "      <th>payload</th>\n",
       "      <th>payload_raw</th>\n",
       "      <th>payload_hex</th>\n",
       "    </tr>\n",
       "  </thead>\n",
       "  <tbody>\n",
       "    <tr>\n",
       "      <th>0</th>\n",
       "      <td>4</td>\n",
       "      <td>5</td>\n",
       "      <td>0</td>\n",
       "      <td>961</td>\n",
       "      <td>1</td>\n",
       "      <td></td>\n",
       "      <td>0</td>\n",
       "      <td>64</td>\n",
       "      <td>17</td>\n",
       "      <td>21222</td>\n",
       "      <td>...</td>\n",
       "      <td>None</td>\n",
       "      <td>None</td>\n",
       "      <td>None</td>\n",
       "      <td>None</td>\n",
       "      <td>62990</td>\n",
       "      <td>None</td>\n",
       "      <td>None</td>\n",
       "      <td>933</td>\n",
       "      <td>b'\\x00\\x0c\\x01\\x00\\x00\\x01\\x00\\x00\\x00\\x00\\x00...</td>\n",
       "      <td>b'000c0100000100000000000006676f6f676c6503636f...</td>\n",
       "    </tr>\n",
       "    <tr>\n",
       "      <th>1</th>\n",
       "      <td>4</td>\n",
       "      <td>5</td>\n",
       "      <td>32</td>\n",
       "      <td>84</td>\n",
       "      <td>58919</td>\n",
       "      <td></td>\n",
       "      <td>0</td>\n",
       "      <td>122</td>\n",
       "      <td>17</td>\n",
       "      <td>13836</td>\n",
       "      <td>...</td>\n",
       "      <td>None</td>\n",
       "      <td>None</td>\n",
       "      <td>None</td>\n",
       "      <td>None</td>\n",
       "      <td>65061</td>\n",
       "      <td>None</td>\n",
       "      <td>None</td>\n",
       "      <td>56</td>\n",
       "      <td>b'\\x00\\x0c\\x81\\x80\\x00\\x01\\x00\\x01\\x00\\x00\\x00...</td>\n",
       "      <td>b'000c8180000100010000000006676f6f676c6503636f...</td>\n",
       "    </tr>\n",
       "    <tr>\n",
       "      <th>2</th>\n",
       "      <td>4</td>\n",
       "      <td>5</td>\n",
       "      <td>0</td>\n",
       "      <td>975</td>\n",
       "      <td>1</td>\n",
       "      <td></td>\n",
       "      <td>0</td>\n",
       "      <td>64</td>\n",
       "      <td>17</td>\n",
       "      <td>21208</td>\n",
       "      <td>...</td>\n",
       "      <td>None</td>\n",
       "      <td>None</td>\n",
       "      <td>None</td>\n",
       "      <td>None</td>\n",
       "      <td>36378</td>\n",
       "      <td>None</td>\n",
       "      <td>None</td>\n",
       "      <td>947</td>\n",
       "      <td>b'\\x00\\x0c\\x01\\x00\\x00\\x01\\x00\\x00\\x00\\x00\\x00...</td>\n",
       "      <td>b'000c0100000100000000000006676f6f676c6503636f...</td>\n",
       "    </tr>\n",
       "    <tr>\n",
       "      <th>3</th>\n",
       "      <td>4</td>\n",
       "      <td>5</td>\n",
       "      <td>32</td>\n",
       "      <td>84</td>\n",
       "      <td>59493</td>\n",
       "      <td></td>\n",
       "      <td>0</td>\n",
       "      <td>122</td>\n",
       "      <td>17</td>\n",
       "      <td>13262</td>\n",
       "      <td>...</td>\n",
       "      <td>None</td>\n",
       "      <td>None</td>\n",
       "      <td>None</td>\n",
       "      <td>None</td>\n",
       "      <td>65063</td>\n",
       "      <td>None</td>\n",
       "      <td>None</td>\n",
       "      <td>56</td>\n",
       "      <td>b'\\x00\\x0c\\x81\\x80\\x00\\x01\\x00\\x01\\x00\\x00\\x00...</td>\n",
       "      <td>b'000c8180000100010000000006676f6f676c6503636f...</td>\n",
       "    </tr>\n",
       "    <tr>\n",
       "      <th>4</th>\n",
       "      <td>4</td>\n",
       "      <td>5</td>\n",
       "      <td>0</td>\n",
       "      <td>1012</td>\n",
       "      <td>1</td>\n",
       "      <td></td>\n",
       "      <td>0</td>\n",
       "      <td>64</td>\n",
       "      <td>17</td>\n",
       "      <td>21171</td>\n",
       "      <td>...</td>\n",
       "      <td>None</td>\n",
       "      <td>None</td>\n",
       "      <td>None</td>\n",
       "      <td>None</td>\n",
       "      <td>63846</td>\n",
       "      <td>None</td>\n",
       "      <td>None</td>\n",
       "      <td>984</td>\n",
       "      <td>b'\\x00\\x0c\\x01\\x00\\x00\\x01\\x00\\x00\\x00\\x00\\x00...</td>\n",
       "      <td>b'000c0100000100000000000006676f6f676c6503636f...</td>\n",
       "    </tr>\n",
       "  </tbody>\n",
       "</table>\n",
       "<p>5 rows × 28 columns</p>\n",
       "</div>"
      ],
      "text/plain": [
       "  version ihl tos   len     id flags frag  ttl proto chksum  ... dataofs  \\\n",
       "0       4   5   0   961      1          0   64    17  21222  ...    None   \n",
       "1       4   5  32    84  58919          0  122    17  13836  ...    None   \n",
       "2       4   5   0   975      1          0   64    17  21208  ...    None   \n",
       "3       4   5  32    84  59493          0  122    17  13262  ...    None   \n",
       "4       4   5   0  1012      1          0   64    17  21171  ...    None   \n",
       "\n",
       "  reserved flags window chksum urgptr options payload  \\\n",
       "0     None  None   None  62990   None    None     933   \n",
       "1     None  None   None  65061   None    None      56   \n",
       "2     None  None   None  36378   None    None     947   \n",
       "3     None  None   None  65063   None    None      56   \n",
       "4     None  None   None  63846   None    None     984   \n",
       "\n",
       "                                         payload_raw  \\\n",
       "0  b'\\x00\\x0c\\x01\\x00\\x00\\x01\\x00\\x00\\x00\\x00\\x00...   \n",
       "1  b'\\x00\\x0c\\x81\\x80\\x00\\x01\\x00\\x01\\x00\\x00\\x00...   \n",
       "2  b'\\x00\\x0c\\x01\\x00\\x00\\x01\\x00\\x00\\x00\\x00\\x00...   \n",
       "3  b'\\x00\\x0c\\x81\\x80\\x00\\x01\\x00\\x01\\x00\\x00\\x00...   \n",
       "4  b'\\x00\\x0c\\x01\\x00\\x00\\x01\\x00\\x00\\x00\\x00\\x00...   \n",
       "\n",
       "                                         payload_hex  \n",
       "0  b'000c0100000100000000000006676f6f676c6503636f...  \n",
       "1  b'000c8180000100010000000006676f6f676c6503636f...  \n",
       "2  b'000c0100000100000000000006676f6f676c6503636f...  \n",
       "3  b'000c8180000100010000000006676f6f676c6503636f...  \n",
       "4  b'000c0100000100000000000006676f6f676c6503636f...  \n",
       "\n",
       "[5 rows x 28 columns]"
      ]
     },
     "execution_count": 9,
     "metadata": {},
     "output_type": "execute_result"
    }
   ],
   "source": [
    "df_file.head(5)"
   ]
  },
  {
   "cell_type": "code",
   "execution_count": 10,
   "id": "704decae",
   "metadata": {},
   "outputs": [],
   "source": [
    "df_scan = create_dataframe(pcap_scan)"
   ]
  },
  {
   "cell_type": "code",
   "execution_count": 11,
   "id": "86a6067a",
   "metadata": {},
   "outputs": [
    {
     "data": {
      "text/html": [
       "<div>\n",
       "<style scoped>\n",
       "    .dataframe tbody tr th:only-of-type {\n",
       "        vertical-align: middle;\n",
       "    }\n",
       "\n",
       "    .dataframe tbody tr th {\n",
       "        vertical-align: top;\n",
       "    }\n",
       "\n",
       "    .dataframe thead th {\n",
       "        text-align: right;\n",
       "    }\n",
       "</style>\n",
       "<table border=\"1\" class=\"dataframe\">\n",
       "  <thead>\n",
       "    <tr style=\"text-align: right;\">\n",
       "      <th></th>\n",
       "      <th>version</th>\n",
       "      <th>ihl</th>\n",
       "      <th>tos</th>\n",
       "      <th>len</th>\n",
       "      <th>id</th>\n",
       "      <th>flags</th>\n",
       "      <th>frag</th>\n",
       "      <th>ttl</th>\n",
       "      <th>proto</th>\n",
       "      <th>chksum</th>\n",
       "      <th>...</th>\n",
       "      <th>dataofs</th>\n",
       "      <th>reserved</th>\n",
       "      <th>flags</th>\n",
       "      <th>window</th>\n",
       "      <th>chksum</th>\n",
       "      <th>urgptr</th>\n",
       "      <th>options</th>\n",
       "      <th>payload</th>\n",
       "      <th>payload_raw</th>\n",
       "      <th>payload_hex</th>\n",
       "    </tr>\n",
       "  </thead>\n",
       "  <tbody>\n",
       "    <tr>\n",
       "      <th>0</th>\n",
       "      <td>4</td>\n",
       "      <td>5</td>\n",
       "      <td>0</td>\n",
       "      <td>120</td>\n",
       "      <td>51754</td>\n",
       "      <td></td>\n",
       "      <td>0</td>\n",
       "      <td>55</td>\n",
       "      <td>17</td>\n",
       "      <td>45382</td>\n",
       "      <td>...</td>\n",
       "      <td>None</td>\n",
       "      <td>None</td>\n",
       "      <td>None</td>\n",
       "      <td>None</td>\n",
       "      <td>62671</td>\n",
       "      <td>None</td>\n",
       "      <td>None</td>\n",
       "      <td>92</td>\n",
       "      <td>b\"\\x01\\x01\\x00H!\\x12\\xa4BWBYhFIDyROnJ\\x00\\x06\\...</td>\n",
       "      <td>b'010100482112a4425742596846494479524f6e4a0006...</td>\n",
       "    </tr>\n",
       "    <tr>\n",
       "      <th>1</th>\n",
       "      <td>4</td>\n",
       "      <td>5</td>\n",
       "      <td>0</td>\n",
       "      <td>149</td>\n",
       "      <td>0</td>\n",
       "      <td></td>\n",
       "      <td>0</td>\n",
       "      <td>55</td>\n",
       "      <td>17</td>\n",
       "      <td>31572</td>\n",
       "      <td>...</td>\n",
       "      <td>None</td>\n",
       "      <td>None</td>\n",
       "      <td>None</td>\n",
       "      <td>None</td>\n",
       "      <td>51191</td>\n",
       "      <td>None</td>\n",
       "      <td>None</td>\n",
       "      <td>121</td>\n",
       "      <td>b\"\\x92oL;5\\xa3x[\\x00\\x00\\x1a\\n&lt;r\\xadC\\x00\\x00\\...</td>\n",
       "      <td>b'926f4c3b35a3785b00001a0a3c72ad430000002abede...</td>\n",
       "    </tr>\n",
       "    <tr>\n",
       "      <th>2</th>\n",
       "      <td>4</td>\n",
       "      <td>5</td>\n",
       "      <td>0</td>\n",
       "      <td>138</td>\n",
       "      <td>28125</td>\n",
       "      <td></td>\n",
       "      <td>0</td>\n",
       "      <td>128</td>\n",
       "      <td>17</td>\n",
       "      <td>50305</td>\n",
       "      <td>...</td>\n",
       "      <td>None</td>\n",
       "      <td>None</td>\n",
       "      <td>None</td>\n",
       "      <td>None</td>\n",
       "      <td>7575</td>\n",
       "      <td>None</td>\n",
       "      <td>None</td>\n",
       "      <td>110</td>\n",
       "      <td>b'\\x90oi]/\\x8e\\x8b\\xedXw%z\\xbe\\xde\\x00\\x03\"[\\x...</td>\n",
       "      <td>b'906f695d2f8e8bed5877257abede0003225bbdd83146...</td>\n",
       "    </tr>\n",
       "    <tr>\n",
       "      <th>3</th>\n",
       "      <td>4</td>\n",
       "      <td>5</td>\n",
       "      <td>0</td>\n",
       "      <td>144</td>\n",
       "      <td>0</td>\n",
       "      <td></td>\n",
       "      <td>0</td>\n",
       "      <td>55</td>\n",
       "      <td>17</td>\n",
       "      <td>31577</td>\n",
       "      <td>...</td>\n",
       "      <td>None</td>\n",
       "      <td>None</td>\n",
       "      <td>None</td>\n",
       "      <td>None</td>\n",
       "      <td>52116</td>\n",
       "      <td>None</td>\n",
       "      <td>None</td>\n",
       "      <td>116</td>\n",
       "      <td>b'\\x92oL&lt;5\\xa3|\\x1b\\x00\\x00\\x1a\\n&lt;r\\xadC\\x00\\x...</td>\n",
       "      <td>b'926f4c3c35a37c1b00001a0a3c72ad430000002abede...</td>\n",
       "    </tr>\n",
       "    <tr>\n",
       "      <th>4</th>\n",
       "      <td>4</td>\n",
       "      <td>5</td>\n",
       "      <td>0</td>\n",
       "      <td>70</td>\n",
       "      <td>28126</td>\n",
       "      <td></td>\n",
       "      <td>0</td>\n",
       "      <td>128</td>\n",
       "      <td>17</td>\n",
       "      <td>50372</td>\n",
       "      <td>...</td>\n",
       "      <td>None</td>\n",
       "      <td>None</td>\n",
       "      <td>None</td>\n",
       "      <td>None</td>\n",
       "      <td>19127</td>\n",
       "      <td>None</td>\n",
       "      <td>None</td>\n",
       "      <td>42</td>\n",
       "      <td>b\"\\xaf\\xcd\\x00\\x06X\\x93HfX\\x11B\\x10\\xf4?_q\\x95...</td>\n",
       "      <td>b'afcd00065893486658114210f43f5f71952427c1d337...</td>\n",
       "    </tr>\n",
       "  </tbody>\n",
       "</table>\n",
       "<p>5 rows × 28 columns</p>\n",
       "</div>"
      ],
      "text/plain": [
       "  version ihl tos  len     id flags frag  ttl proto chksum  ... dataofs  \\\n",
       "0       4   5   0  120  51754          0   55    17  45382  ...    None   \n",
       "1       4   5   0  149      0          0   55    17  31572  ...    None   \n",
       "2       4   5   0  138  28125          0  128    17  50305  ...    None   \n",
       "3       4   5   0  144      0          0   55    17  31577  ...    None   \n",
       "4       4   5   0   70  28126          0  128    17  50372  ...    None   \n",
       "\n",
       "  reserved flags window chksum urgptr options payload  \\\n",
       "0     None  None   None  62671   None    None      92   \n",
       "1     None  None   None  51191   None    None     121   \n",
       "2     None  None   None   7575   None    None     110   \n",
       "3     None  None   None  52116   None    None     116   \n",
       "4     None  None   None  19127   None    None      42   \n",
       "\n",
       "                                         payload_raw  \\\n",
       "0  b\"\\x01\\x01\\x00H!\\x12\\xa4BWBYhFIDyROnJ\\x00\\x06\\...   \n",
       "1  b\"\\x92oL;5\\xa3x[\\x00\\x00\\x1a\\n<r\\xadC\\x00\\x00\\...   \n",
       "2  b'\\x90oi]/\\x8e\\x8b\\xedXw%z\\xbe\\xde\\x00\\x03\"[\\x...   \n",
       "3  b'\\x92oL<5\\xa3|\\x1b\\x00\\x00\\x1a\\n<r\\xadC\\x00\\x...   \n",
       "4  b\"\\xaf\\xcd\\x00\\x06X\\x93HfX\\x11B\\x10\\xf4?_q\\x95...   \n",
       "\n",
       "                                         payload_hex  \n",
       "0  b'010100482112a4425742596846494479524f6e4a0006...  \n",
       "1  b'926f4c3b35a3785b00001a0a3c72ad430000002abede...  \n",
       "2  b'906f695d2f8e8bed5877257abede0003225bbdd83146...  \n",
       "3  b'926f4c3c35a37c1b00001a0a3c72ad430000002abede...  \n",
       "4  b'afcd00065893486658114210f43f5f71952427c1d337...  \n",
       "\n",
       "[5 rows x 28 columns]"
      ]
     },
     "execution_count": 11,
     "metadata": {},
     "output_type": "execute_result"
    }
   ],
   "source": [
    "df_scan.head(5)"
   ]
  },
  {
   "cell_type": "code",
   "execution_count": 12,
   "id": "fcb0f6ad",
   "metadata": {},
   "outputs": [],
   "source": [
    "df = pd.concat([df_file, df_scan], ignore_index = True)"
   ]
  },
  {
   "cell_type": "code",
   "execution_count": 13,
   "id": "bcd15baa",
   "metadata": {},
   "outputs": [
    {
     "data": {
      "text/html": [
       "<div>\n",
       "<style scoped>\n",
       "    .dataframe tbody tr th:only-of-type {\n",
       "        vertical-align: middle;\n",
       "    }\n",
       "\n",
       "    .dataframe tbody tr th {\n",
       "        vertical-align: top;\n",
       "    }\n",
       "\n",
       "    .dataframe thead th {\n",
       "        text-align: right;\n",
       "    }\n",
       "</style>\n",
       "<table border=\"1\" class=\"dataframe\">\n",
       "  <thead>\n",
       "    <tr style=\"text-align: right;\">\n",
       "      <th></th>\n",
       "      <th>src</th>\n",
       "      <th>dst</th>\n",
       "      <th>sport</th>\n",
       "      <th>dport</th>\n",
       "    </tr>\n",
       "  </thead>\n",
       "  <tbody>\n",
       "    <tr>\n",
       "      <th>0</th>\n",
       "      <td>10.1.10.53</td>\n",
       "      <td>84.54.22.33</td>\n",
       "      <td>53</td>\n",
       "      <td>53</td>\n",
       "    </tr>\n",
       "    <tr>\n",
       "      <th>1</th>\n",
       "      <td>84.54.22.33</td>\n",
       "      <td>10.1.10.53</td>\n",
       "      <td>53</td>\n",
       "      <td>53</td>\n",
       "    </tr>\n",
       "    <tr>\n",
       "      <th>2</th>\n",
       "      <td>10.1.10.53</td>\n",
       "      <td>84.54.22.33</td>\n",
       "      <td>53</td>\n",
       "      <td>53</td>\n",
       "    </tr>\n",
       "    <tr>\n",
       "      <th>3</th>\n",
       "      <td>84.54.22.33</td>\n",
       "      <td>10.1.10.53</td>\n",
       "      <td>53</td>\n",
       "      <td>53</td>\n",
       "    </tr>\n",
       "    <tr>\n",
       "      <th>4</th>\n",
       "      <td>10.1.10.53</td>\n",
       "      <td>84.54.22.33</td>\n",
       "      <td>53</td>\n",
       "      <td>53</td>\n",
       "    </tr>\n",
       "    <tr>\n",
       "      <th>...</th>\n",
       "      <td>...</td>\n",
       "      <td>...</td>\n",
       "      <td>...</td>\n",
       "      <td>...</td>\n",
       "    </tr>\n",
       "    <tr>\n",
       "      <th>157</th>\n",
       "      <td>74.125.250.113</td>\n",
       "      <td>192.168.2.109</td>\n",
       "      <td>19305</td>\n",
       "      <td>50337</td>\n",
       "    </tr>\n",
       "    <tr>\n",
       "      <th>158</th>\n",
       "      <td>74.125.250.113</td>\n",
       "      <td>192.168.2.109</td>\n",
       "      <td>19305</td>\n",
       "      <td>50337</td>\n",
       "    </tr>\n",
       "    <tr>\n",
       "      <th>159</th>\n",
       "      <td>192.168.2.109</td>\n",
       "      <td>74.125.250.113</td>\n",
       "      <td>50337</td>\n",
       "      <td>19305</td>\n",
       "    </tr>\n",
       "    <tr>\n",
       "      <th>160</th>\n",
       "      <td>192.168.2.109</td>\n",
       "      <td>74.125.250.113</td>\n",
       "      <td>50337</td>\n",
       "      <td>19305</td>\n",
       "    </tr>\n",
       "    <tr>\n",
       "      <th>161</th>\n",
       "      <td>74.125.250.113</td>\n",
       "      <td>192.168.2.109</td>\n",
       "      <td>19305</td>\n",
       "      <td>50337</td>\n",
       "    </tr>\n",
       "  </tbody>\n",
       "</table>\n",
       "<p>162 rows × 4 columns</p>\n",
       "</div>"
      ],
      "text/plain": [
       "                src             dst  sport  dport\n",
       "0        10.1.10.53     84.54.22.33     53     53\n",
       "1       84.54.22.33      10.1.10.53     53     53\n",
       "2        10.1.10.53     84.54.22.33     53     53\n",
       "3       84.54.22.33      10.1.10.53     53     53\n",
       "4        10.1.10.53     84.54.22.33     53     53\n",
       "..              ...             ...    ...    ...\n",
       "157  74.125.250.113   192.168.2.109  19305  50337\n",
       "158  74.125.250.113   192.168.2.109  19305  50337\n",
       "159   192.168.2.109  74.125.250.113  50337  19305\n",
       "160   192.168.2.109  74.125.250.113  50337  19305\n",
       "161  74.125.250.113   192.168.2.109  19305  50337\n",
       "\n",
       "[162 rows x 4 columns]"
      ]
     },
     "execution_count": 13,
     "metadata": {},
     "output_type": "execute_result"
    }
   ],
   "source": [
    "# Src Address, Dst Address, Src Port, Dst Port\n",
    "df[['src','dst','sport','dport']]"
   ]
  },
  {
   "cell_type": "markdown",
   "id": "e74dad3d",
   "metadata": {},
   "source": [
    "#### Estadísticas "
   ]
  },
  {
   "cell_type": "markdown",
   "id": "6fc78edf",
   "metadata": {},
   "source": [
    "a. Muestre cual es la IP origen que más aparece "
   ]
  },
  {
   "cell_type": "code",
   "execution_count": 14,
   "id": "5f17b2ec",
   "metadata": {},
   "outputs": [
    {
     "name": "stdout",
     "output_type": "stream",
     "text": [
      "192.168.2.109\n"
     ]
    }
   ],
   "source": [
    "frequent_src_address = df['src'].describe()['top']\n",
    "\n",
    "print(frequent_src_address)"
   ]
  },
  {
   "cell_type": "markdown",
   "id": "62f643bb",
   "metadata": {},
   "source": [
    "b. Muestre cual es la IP destino que más aparece "
   ]
  },
  {
   "cell_type": "code",
   "execution_count": 15,
   "id": "349c941a",
   "metadata": {},
   "outputs": [
    {
     "name": "stdout",
     "output_type": "stream",
     "text": [
      "192.168.2.109\n"
     ]
    }
   ],
   "source": [
    "frequent_dst_address = df['dst'].describe()['top']\n",
    "\n",
    "print(frequent_dst_address)"
   ]
  },
  {
   "cell_type": "markdown",
   "id": "957af8d5",
   "metadata": {},
   "source": [
    "c. ¿A qué IPs se comunica la IP del inciso a? "
   ]
  },
  {
   "cell_type": "code",
   "execution_count": 19,
   "id": "f2805e40",
   "metadata": {},
   "outputs": [
    {
     "name": "stdout",
     "output_type": "stream",
     "text": [
      "['74.125.250.113' '142.250.217.238' '142.250.64.238']\n"
     ]
    }
   ],
   "source": [
    "print(df[df['src'] == frequent_src_address]['dst'].unique())"
   ]
  },
  {
   "cell_type": "markdown",
   "id": "91af216b",
   "metadata": {},
   "source": [
    "d. ¿A qué puertos destino se comunica la IP del inciso a? "
   ]
  },
  {
   "cell_type": "code",
   "execution_count": 20,
   "id": "988128ed",
   "metadata": {},
   "outputs": [
    {
     "name": "stdout",
     "output_type": "stream",
     "text": [
      "[19305 443]\n"
     ]
    }
   ],
   "source": [
    "print(df[df['src'] == frequent_src_address]['dport'].unique())"
   ]
  },
  {
   "cell_type": "markdown",
   "id": "4d233185",
   "metadata": {},
   "source": [
    "e. ¿A qué puertos origen se comunica la IP del inciso a? "
   ]
  },
  {
   "cell_type": "code",
   "execution_count": 21,
   "id": "af4eae50",
   "metadata": {},
   "outputs": [
    {
     "name": "stdout",
     "output_type": "stream",
     "text": [
      "[50337 50621 51767]\n"
     ]
    }
   ],
   "source": [
    "print(df[df['src'] == frequent_src_address]['sport'].unique())"
   ]
  },
  {
   "cell_type": "markdown",
   "id": "dcb01af2",
   "metadata": {},
   "source": [
    "f. ¿Para que se utiliza el puerto que más aparece en el inciso  d y e? "
   ]
  },
  {
   "cell_type": "code",
   "execution_count": null,
   "id": "96470461",
   "metadata": {},
   "outputs": [],
   "source": []
  },
  {
   "cell_type": "markdown",
   "id": "81fc3efd",
   "metadata": {},
   "source": [
    "#### Gráficas"
   ]
  },
  {
   "cell_type": "markdown",
   "id": "7ae3713b",
   "metadata": {},
   "source": [
    "a. Muestre una gráfica 2D, en el eje Y las IPs origen, y en el eje X la suma de los payloads \n",
    "enviados de dichas direcciones. "
   ]
  },
  {
   "cell_type": "code",
   "execution_count": 23,
   "id": "14877f9a",
   "metadata": {},
   "outputs": [
    {
     "data": {
      "text/plain": [
       "<AxesSubplot:xlabel='src'>"
      ]
     },
     "execution_count": 23,
     "metadata": {},
     "output_type": "execute_result"
    },
    {
     "data": {
      "image/png": "[encoded data removed]",
      "text/plain": [
       "<Figure size 1080x576 with 1 Axes>"
      ]
     },
     "metadata": {
      "needs_background": "light"
     },
     "output_type": "display_data"
    }
   ],
   "source": [
    "df.groupby('src').count()['payload'].plot(legend=True, figsize=(15, 8))"
   ]
  },
  {
   "cell_type": "markdown",
   "id": "689aa85f",
   "metadata": {},
   "source": [
    "b. Muestre una gráfica 2D, en el eje Y las IPs destino, y en el eje X la suma de los payloads \n",
    "recibidos en dichas direcciones. "
   ]
  },
  {
   "cell_type": "code",
   "execution_count": 24,
   "id": "d5f63900",
   "metadata": {},
   "outputs": [
    {
     "data": {
      "text/plain": [
       "<AxesSubplot:xlabel='dst'>"
      ]
     },
     "execution_count": 24,
     "metadata": {},
     "output_type": "execute_result"
    },
    {
     "data": {
      "image/png": "[encoded data removed]",
      "text/plain": [
       "<Figure size 1080x576 with 1 Axes>"
      ]
     },
     "metadata": {
      "needs_background": "light"
     },
     "output_type": "display_data"
    }
   ],
   "source": [
    "df.groupby('dst').count()['payload'].plot(legend=True, figsize=(15, 8))"
   ]
  },
  {
   "cell_type": "markdown",
   "id": "80c1f1d4",
   "metadata": {},
   "source": [
    "c. Muestre una gráfica 2D, en el eje Y los puertos origen, y en el eje X la suma de los \n",
    "payloads enviados de dichos puertos. "
   ]
  },
  {
   "cell_type": "code",
   "execution_count": 27,
   "id": "303b36a6",
   "metadata": {},
   "outputs": [
    {
     "data": {
      "text/plain": [
       "<AxesSubplot:xlabel='sport'>"
      ]
     },
     "execution_count": 27,
     "metadata": {},
     "output_type": "execute_result"
    },
    {
     "data": {
      "image/png": "[encoded data removed]",
      "text/plain": [
       "<Figure size 1080x576 with 1 Axes>"
      ]
     },
     "metadata": {
      "needs_background": "light"
     },
     "output_type": "display_data"
    }
   ],
   "source": [
    "df.groupby('sport').count()['payload'].plot(legend=True, figsize=(15, 8))"
   ]
  },
  {
   "cell_type": "markdown",
   "id": "2a08d925",
   "metadata": {},
   "source": [
    "d. Muestre una gráfica 2D, en el eje Y los puertos destino, y en el eje X la suma de los \n",
    "payloads recibidos en dichos puertos. "
   ]
  },
  {
   "cell_type": "code",
   "execution_count": 28,
   "id": "0d5b71d3",
   "metadata": {},
   "outputs": [
    {
     "data": {
      "text/plain": [
       "<AxesSubplot:xlabel='dport'>"
      ]
     },
     "execution_count": 28,
     "metadata": {},
     "output_type": "execute_result"
    },
    {
     "data": {
      "image/png": "[encoded data removed]",
      "text/plain": [
       "<Figure size 1080x576 with 1 Axes>"
      ]
     },
     "metadata": {
      "needs_background": "light"
     },
     "output_type": "display_data"
    }
   ],
   "source": [
    "df.groupby('dport').count()['payload'].plot(legend=True, figsize=(15, 8))"
   ]
  },
  {
   "cell_type": "code",
   "execution_count": null,
   "id": "098c8a4a",
   "metadata": {},
   "outputs": [],
   "source": []
  },
  {
   "cell_type": "code",
   "execution_count": 16,
   "id": "170b3dc3",
   "metadata": {},
   "outputs": [],
   "source": [
    "df.to_csv('pcap_final.csv', index = False)"
   ]
  }
 ],
 "metadata": {
  "kernelspec": {
   "display_name": "Python 3 (ipykernel)",
   "language": "python",
   "name": "python3"
  },
  "language_info": {
   "codemirror_mode": {
    "name": "ipython",
    "version": 3
   },
   "file_extension": ".py",
   "mimetype": "text/x-python",
   "name": "python",
   "nbconvert_exporter": "python",
   "pygments_lexer": "ipython3",
   "version": "3.10.0"
  }
 },
 "nbformat": 4,
 "nbformat_minor": 5
}
